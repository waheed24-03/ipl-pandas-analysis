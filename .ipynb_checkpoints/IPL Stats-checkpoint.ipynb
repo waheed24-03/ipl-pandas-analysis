{
 "cells": [
  {
   "cell_type": "code",
   "execution_count": 1,
   "id": "a1fdd57d-dc3b-4264-8c8b-be0f48426da9",
   "metadata": {},
   "outputs": [],
   "source": [
    "import pandas as pd"
   ]
  },
  {
   "cell_type": "code",
   "execution_count": 3,
   "id": "4a726435-0ac7-4652-82a7-7cee3f9f75a9",
   "metadata": {},
   "outputs": [],
   "source": [
    "matches = pd.read_csv(\"matches.csv\")"
   ]
  },
  {
   "cell_type": "code",
   "execution_count": 4,
   "id": "8ccbe1ab-2059-47aa-9fe0-771935e12ecb",
   "metadata": {},
   "outputs": [],
   "source": [
    "deliveries=pd.read_csv(\"deliveries.csv\")"
   ]
  },
  {
   "cell_type": "code",
   "execution_count": 5,
   "id": "a6b18b0e-d48a-4bca-9236-e889859c5f73",
   "metadata": {},
   "outputs": [
    {
     "data": {
      "text/html": [
       "<div>\n",
       "<style scoped>\n",
       "    .dataframe tbody tr th:only-of-type {\n",
       "        vertical-align: middle;\n",
       "    }\n",
       "\n",
       "    .dataframe tbody tr th {\n",
       "        vertical-align: top;\n",
       "    }\n",
       "\n",
       "    .dataframe thead th {\n",
       "        text-align: right;\n",
       "    }\n",
       "</style>\n",
       "<table border=\"1\" class=\"dataframe\">\n",
       "  <thead>\n",
       "    <tr style=\"text-align: right;\">\n",
       "      <th></th>\n",
       "      <th>id</th>\n",
       "      <th>season</th>\n",
       "      <th>city</th>\n",
       "      <th>date</th>\n",
       "      <th>match_type</th>\n",
       "      <th>player_of_match</th>\n",
       "      <th>venue</th>\n",
       "      <th>team1</th>\n",
       "      <th>team2</th>\n",
       "      <th>toss_winner</th>\n",
       "      <th>toss_decision</th>\n",
       "      <th>winner</th>\n",
       "      <th>result</th>\n",
       "      <th>result_margin</th>\n",
       "      <th>target_runs</th>\n",
       "      <th>target_overs</th>\n",
       "      <th>super_over</th>\n",
       "      <th>method</th>\n",
       "      <th>umpire1</th>\n",
       "      <th>umpire2</th>\n",
       "    </tr>\n",
       "  </thead>\n",
       "  <tbody>\n",
       "    <tr>\n",
       "      <th>0</th>\n",
       "      <td>335982</td>\n",
       "      <td>2007/08</td>\n",
       "      <td>Bangalore</td>\n",
       "      <td>2008-04-18</td>\n",
       "      <td>League</td>\n",
       "      <td>BB McCullum</td>\n",
       "      <td>M Chinnaswamy Stadium</td>\n",
       "      <td>Royal Challengers Bangalore</td>\n",
       "      <td>Kolkata Knight Riders</td>\n",
       "      <td>Royal Challengers Bangalore</td>\n",
       "      <td>field</td>\n",
       "      <td>Kolkata Knight Riders</td>\n",
       "      <td>runs</td>\n",
       "      <td>140.0</td>\n",
       "      <td>223.0</td>\n",
       "      <td>20.0</td>\n",
       "      <td>N</td>\n",
       "      <td>NaN</td>\n",
       "      <td>Asad Rauf</td>\n",
       "      <td>RE Koertzen</td>\n",
       "    </tr>\n",
       "    <tr>\n",
       "      <th>1</th>\n",
       "      <td>335983</td>\n",
       "      <td>2007/08</td>\n",
       "      <td>Chandigarh</td>\n",
       "      <td>2008-04-19</td>\n",
       "      <td>League</td>\n",
       "      <td>MEK Hussey</td>\n",
       "      <td>Punjab Cricket Association Stadium, Mohali</td>\n",
       "      <td>Kings XI Punjab</td>\n",
       "      <td>Chennai Super Kings</td>\n",
       "      <td>Chennai Super Kings</td>\n",
       "      <td>bat</td>\n",
       "      <td>Chennai Super Kings</td>\n",
       "      <td>runs</td>\n",
       "      <td>33.0</td>\n",
       "      <td>241.0</td>\n",
       "      <td>20.0</td>\n",
       "      <td>N</td>\n",
       "      <td>NaN</td>\n",
       "      <td>MR Benson</td>\n",
       "      <td>SL Shastri</td>\n",
       "    </tr>\n",
       "    <tr>\n",
       "      <th>2</th>\n",
       "      <td>335984</td>\n",
       "      <td>2007/08</td>\n",
       "      <td>Delhi</td>\n",
       "      <td>2008-04-19</td>\n",
       "      <td>League</td>\n",
       "      <td>MF Maharoof</td>\n",
       "      <td>Feroz Shah Kotla</td>\n",
       "      <td>Delhi Daredevils</td>\n",
       "      <td>Rajasthan Royals</td>\n",
       "      <td>Rajasthan Royals</td>\n",
       "      <td>bat</td>\n",
       "      <td>Delhi Daredevils</td>\n",
       "      <td>wickets</td>\n",
       "      <td>9.0</td>\n",
       "      <td>130.0</td>\n",
       "      <td>20.0</td>\n",
       "      <td>N</td>\n",
       "      <td>NaN</td>\n",
       "      <td>Aleem Dar</td>\n",
       "      <td>GA Pratapkumar</td>\n",
       "    </tr>\n",
       "    <tr>\n",
       "      <th>3</th>\n",
       "      <td>335985</td>\n",
       "      <td>2007/08</td>\n",
       "      <td>Mumbai</td>\n",
       "      <td>2008-04-20</td>\n",
       "      <td>League</td>\n",
       "      <td>MV Boucher</td>\n",
       "      <td>Wankhede Stadium</td>\n",
       "      <td>Mumbai Indians</td>\n",
       "      <td>Royal Challengers Bangalore</td>\n",
       "      <td>Mumbai Indians</td>\n",
       "      <td>bat</td>\n",
       "      <td>Royal Challengers Bangalore</td>\n",
       "      <td>wickets</td>\n",
       "      <td>5.0</td>\n",
       "      <td>166.0</td>\n",
       "      <td>20.0</td>\n",
       "      <td>N</td>\n",
       "      <td>NaN</td>\n",
       "      <td>SJ Davis</td>\n",
       "      <td>DJ Harper</td>\n",
       "    </tr>\n",
       "    <tr>\n",
       "      <th>4</th>\n",
       "      <td>335986</td>\n",
       "      <td>2007/08</td>\n",
       "      <td>Kolkata</td>\n",
       "      <td>2008-04-20</td>\n",
       "      <td>League</td>\n",
       "      <td>DJ Hussey</td>\n",
       "      <td>Eden Gardens</td>\n",
       "      <td>Kolkata Knight Riders</td>\n",
       "      <td>Deccan Chargers</td>\n",
       "      <td>Deccan Chargers</td>\n",
       "      <td>bat</td>\n",
       "      <td>Kolkata Knight Riders</td>\n",
       "      <td>wickets</td>\n",
       "      <td>5.0</td>\n",
       "      <td>111.0</td>\n",
       "      <td>20.0</td>\n",
       "      <td>N</td>\n",
       "      <td>NaN</td>\n",
       "      <td>BF Bowden</td>\n",
       "      <td>K Hariharan</td>\n",
       "    </tr>\n",
       "  </tbody>\n",
       "</table>\n",
       "</div>"
      ],
      "text/plain": [
       "       id   season        city        date match_type player_of_match  \\\n",
       "0  335982  2007/08   Bangalore  2008-04-18     League     BB McCullum   \n",
       "1  335983  2007/08  Chandigarh  2008-04-19     League      MEK Hussey   \n",
       "2  335984  2007/08       Delhi  2008-04-19     League     MF Maharoof   \n",
       "3  335985  2007/08      Mumbai  2008-04-20     League      MV Boucher   \n",
       "4  335986  2007/08     Kolkata  2008-04-20     League       DJ Hussey   \n",
       "\n",
       "                                        venue                        team1  \\\n",
       "0                       M Chinnaswamy Stadium  Royal Challengers Bangalore   \n",
       "1  Punjab Cricket Association Stadium, Mohali              Kings XI Punjab   \n",
       "2                            Feroz Shah Kotla             Delhi Daredevils   \n",
       "3                            Wankhede Stadium               Mumbai Indians   \n",
       "4                                Eden Gardens        Kolkata Knight Riders   \n",
       "\n",
       "                         team2                  toss_winner toss_decision  \\\n",
       "0        Kolkata Knight Riders  Royal Challengers Bangalore         field   \n",
       "1          Chennai Super Kings          Chennai Super Kings           bat   \n",
       "2             Rajasthan Royals             Rajasthan Royals           bat   \n",
       "3  Royal Challengers Bangalore               Mumbai Indians           bat   \n",
       "4              Deccan Chargers              Deccan Chargers           bat   \n",
       "\n",
       "                        winner   result  result_margin  target_runs  \\\n",
       "0        Kolkata Knight Riders     runs          140.0        223.0   \n",
       "1          Chennai Super Kings     runs           33.0        241.0   \n",
       "2             Delhi Daredevils  wickets            9.0        130.0   \n",
       "3  Royal Challengers Bangalore  wickets            5.0        166.0   \n",
       "4        Kolkata Knight Riders  wickets            5.0        111.0   \n",
       "\n",
       "   target_overs super_over method    umpire1         umpire2  \n",
       "0          20.0          N    NaN  Asad Rauf     RE Koertzen  \n",
       "1          20.0          N    NaN  MR Benson      SL Shastri  \n",
       "2          20.0          N    NaN  Aleem Dar  GA Pratapkumar  \n",
       "3          20.0          N    NaN   SJ Davis       DJ Harper  \n",
       "4          20.0          N    NaN  BF Bowden     K Hariharan  "
      ]
     },
     "execution_count": 5,
     "metadata": {},
     "output_type": "execute_result"
    }
   ],
   "source": [
    "matches.head()"
   ]
  },
  {
   "cell_type": "code",
   "execution_count": 6,
   "id": "7cace588-fbf7-4fda-84db-2c43d4b98c50",
   "metadata": {},
   "outputs": [
    {
     "name": "stdout",
     "output_type": "stream",
     "text": [
      "<class 'pandas.core.frame.DataFrame'>\n",
      "RangeIndex: 1095 entries, 0 to 1094\n",
      "Data columns (total 20 columns):\n",
      " #   Column           Non-Null Count  Dtype  \n",
      "---  ------           --------------  -----  \n",
      " 0   id               1095 non-null   int64  \n",
      " 1   season           1095 non-null   object \n",
      " 2   city             1044 non-null   object \n",
      " 3   date             1095 non-null   object \n",
      " 4   match_type       1095 non-null   object \n",
      " 5   player_of_match  1090 non-null   object \n",
      " 6   venue            1095 non-null   object \n",
      " 7   team1            1095 non-null   object \n",
      " 8   team2            1095 non-null   object \n",
      " 9   toss_winner      1095 non-null   object \n",
      " 10  toss_decision    1095 non-null   object \n",
      " 11  winner           1090 non-null   object \n",
      " 12  result           1095 non-null   object \n",
      " 13  result_margin    1076 non-null   float64\n",
      " 14  target_runs      1092 non-null   float64\n",
      " 15  target_overs     1092 non-null   float64\n",
      " 16  super_over       1095 non-null   object \n",
      " 17  method           21 non-null     object \n",
      " 18  umpire1          1095 non-null   object \n",
      " 19  umpire2          1095 non-null   object \n",
      "dtypes: float64(3), int64(1), object(16)\n",
      "memory usage: 171.2+ KB\n"
     ]
    }
   ],
   "source": [
    "matches.info()\n"
   ]
  },
  {
   "cell_type": "code",
   "execution_count": 10,
   "id": "5271f9f6-2200-4bdc-a6e5-533ffd2ed23a",
   "metadata": {},
   "outputs": [
    {
     "data": {
      "text/plain": [
       "Index(['id', 'season', 'city', 'date', 'match_type', 'player_of_match',\n",
       "       'venue', 'team1', 'team2', 'toss_winner', 'toss_decision', 'winner',\n",
       "       'result', 'result_margin', 'target_runs', 'target_overs', 'super_over',\n",
       "       'method', 'umpire1', 'umpire2'],\n",
       "      dtype='object')"
      ]
     },
     "execution_count": 10,
     "metadata": {},
     "output_type": "execute_result"
    }
   ],
   "source": [
    "matches.columns"
   ]
  },
  {
   "cell_type": "code",
   "execution_count": 11,
   "id": "c158ed0d-a89f-49ac-98f5-8f9e17d3199d",
   "metadata": {},
   "outputs": [
    {
     "data": {
      "text/html": [
       "<div>\n",
       "<style scoped>\n",
       "    .dataframe tbody tr th:only-of-type {\n",
       "        vertical-align: middle;\n",
       "    }\n",
       "\n",
       "    .dataframe tbody tr th {\n",
       "        vertical-align: top;\n",
       "    }\n",
       "\n",
       "    .dataframe thead th {\n",
       "        text-align: right;\n",
       "    }\n",
       "</style>\n",
       "<table border=\"1\" class=\"dataframe\">\n",
       "  <thead>\n",
       "    <tr style=\"text-align: right;\">\n",
       "      <th></th>\n",
       "      <th>id</th>\n",
       "      <th>result_margin</th>\n",
       "      <th>target_runs</th>\n",
       "      <th>target_overs</th>\n",
       "    </tr>\n",
       "  </thead>\n",
       "  <tbody>\n",
       "    <tr>\n",
       "      <th>count</th>\n",
       "      <td>1.095000e+03</td>\n",
       "      <td>1076.000000</td>\n",
       "      <td>1092.000000</td>\n",
       "      <td>1092.000000</td>\n",
       "    </tr>\n",
       "    <tr>\n",
       "      <th>mean</th>\n",
       "      <td>9.048283e+05</td>\n",
       "      <td>17.259294</td>\n",
       "      <td>165.684066</td>\n",
       "      <td>19.759341</td>\n",
       "    </tr>\n",
       "    <tr>\n",
       "      <th>std</th>\n",
       "      <td>3.677402e+05</td>\n",
       "      <td>21.787444</td>\n",
       "      <td>33.427048</td>\n",
       "      <td>1.581108</td>\n",
       "    </tr>\n",
       "    <tr>\n",
       "      <th>min</th>\n",
       "      <td>3.359820e+05</td>\n",
       "      <td>1.000000</td>\n",
       "      <td>43.000000</td>\n",
       "      <td>5.000000</td>\n",
       "    </tr>\n",
       "    <tr>\n",
       "      <th>25%</th>\n",
       "      <td>5.483315e+05</td>\n",
       "      <td>6.000000</td>\n",
       "      <td>146.000000</td>\n",
       "      <td>20.000000</td>\n",
       "    </tr>\n",
       "    <tr>\n",
       "      <th>50%</th>\n",
       "      <td>9.809610e+05</td>\n",
       "      <td>8.000000</td>\n",
       "      <td>166.000000</td>\n",
       "      <td>20.000000</td>\n",
       "    </tr>\n",
       "    <tr>\n",
       "      <th>75%</th>\n",
       "      <td>1.254062e+06</td>\n",
       "      <td>20.000000</td>\n",
       "      <td>187.000000</td>\n",
       "      <td>20.000000</td>\n",
       "    </tr>\n",
       "    <tr>\n",
       "      <th>max</th>\n",
       "      <td>1.426312e+06</td>\n",
       "      <td>146.000000</td>\n",
       "      <td>288.000000</td>\n",
       "      <td>20.000000</td>\n",
       "    </tr>\n",
       "  </tbody>\n",
       "</table>\n",
       "</div>"
      ],
      "text/plain": [
       "                 id  result_margin  target_runs  target_overs\n",
       "count  1.095000e+03    1076.000000  1092.000000   1092.000000\n",
       "mean   9.048283e+05      17.259294   165.684066     19.759341\n",
       "std    3.677402e+05      21.787444    33.427048      1.581108\n",
       "min    3.359820e+05       1.000000    43.000000      5.000000\n",
       "25%    5.483315e+05       6.000000   146.000000     20.000000\n",
       "50%    9.809610e+05       8.000000   166.000000     20.000000\n",
       "75%    1.254062e+06      20.000000   187.000000     20.000000\n",
       "max    1.426312e+06     146.000000   288.000000     20.000000"
      ]
     },
     "execution_count": 11,
     "metadata": {},
     "output_type": "execute_result"
    }
   ],
   "source": [
    "matches.describe()"
   ]
  },
  {
   "cell_type": "code",
   "execution_count": 21,
   "id": "b758f863-9d43-42b7-a5ce-2ca93b64d4b2",
   "metadata": {},
   "outputs": [
    {
     "data": {
      "text/plain": [
       "winner\n",
       "Mumbai Indians                 144\n",
       "Chennai Super Kings            138\n",
       "Kolkata Knight Riders          131\n",
       "Royal Challengers Bangalore    116\n",
       "Rajasthan Royals               112\n",
       "Name: count, dtype: int64"
      ]
     },
     "execution_count": 21,
     "metadata": {},
     "output_type": "execute_result"
    }
   ],
   "source": [
    "matches['winner'].value_counts().head(5)"
   ]
  },
  {
   "cell_type": "code",
   "execution_count": 29,
   "id": "cc2f1e32-9139-40a4-9d54-8b337214ffce",
   "metadata": {},
   "outputs": [],
   "source": [
    "matches['loser']= matches.apply(\n",
    "    lambda row: row['team1'] if row['team2']== row['winner']\n",
    "    else row['team2'] if row['team1'] == row['winner']\n",
    "    else None,\n",
    "    axis=1\n",
    ")"
   ]
  },
  {
   "cell_type": "code",
   "execution_count": 30,
   "id": "df6a9dc7-cbb2-4f73-9d59-8a6b1d7ffd54",
   "metadata": {},
   "outputs": [
    {
     "data": {
      "text/plain": [
       "loser\n",
       "Royal Challengers Bangalore    121\n",
       "Kolkata Knight Riders          120\n",
       "Mumbai Indians                 117\n",
       "Name: count, dtype: int64"
      ]
     },
     "execution_count": 30,
     "metadata": {},
     "output_type": "execute_result"
    }
   ],
   "source": [
    "matches['loser'].value_counts().head(3)"
   ]
  },
  {
   "cell_type": "code",
   "execution_count": 31,
   "id": "4402d1b4-a99d-40e0-a780-48f21a485bdd",
   "metadata": {},
   "outputs": [
    {
     "data": {
      "text/plain": [
       "toss_winner\n",
       "Mumbai Indians                 143\n",
       "Kolkata Knight Riders          122\n",
       "Chennai Super Kings            122\n",
       "Rajasthan Royals               120\n",
       "Royal Challengers Bangalore    113\n",
       "Name: count, dtype: int64"
      ]
     },
     "execution_count": 31,
     "metadata": {},
     "output_type": "execute_result"
    }
   ],
   "source": [
    "matches['toss_winner'].value_counts().head(5)"
   ]
  },
  {
   "cell_type": "code",
   "execution_count": 32,
   "id": "d17709c8-99ce-4ea2-9138-2a970e96d74c",
   "metadata": {},
   "outputs": [],
   "source": [
    "matches['toss_win_match_win']= matches['toss_winner']==matches['winner']"
   ]
  },
  {
   "cell_type": "code",
   "execution_count": 34,
   "id": "8a79fd09-4b74-4551-810c-aa5fdbbf809f",
   "metadata": {},
   "outputs": [
    {
     "data": {
      "text/plain": [
       "toss_win_match_win\n",
       "True     554\n",
       "False    541\n",
       "Name: count, dtype: int64"
      ]
     },
     "execution_count": 34,
     "metadata": {},
     "output_type": "execute_result"
    }
   ],
   "source": [
    "matches['toss_win_match_win'].value_counts()"
   ]
  },
  {
   "cell_type": "code",
   "execution_count": 65,
   "id": "541d40c9-732c-426e-ab67-4a68e5799e9d",
   "metadata": {},
   "outputs": [
    {
     "data": {
      "text/plain": [
       "batter\n",
       "V Kohli       6236\n",
       "S Dhawan      5483\n",
       "RG Sharma     5183\n",
       "DA Warner     4849\n",
       "SK Raina      4177\n",
       "MS Dhoni      3947\n",
       "RV Uthappa    3927\n",
       "AM Rahane     3858\n",
       "KD Karthik    3687\n",
       "KL Rahul      3578\n",
       "Name: count, dtype: int64"
      ]
     },
     "execution_count": 65,
     "metadata": {},
     "output_type": "execute_result"
    }
   ],
   "source": [
    "deliveries['batter'].value_counts().head(10)\n"
   ]
  },
  {
   "cell_type": "code",
   "execution_count": 47,
   "id": "33c8eefc-1972-41d7-8495-a2cc37b1a52f",
   "metadata": {},
   "outputs": [],
   "source": [
    "Kohli=deliveries[deliveries['batter']=='V Kohli']"
   ]
  },
  {
   "cell_type": "code",
   "execution_count": 62,
   "id": "935f5545-c36e-45c9-82a7-966e09535637",
   "metadata": {},
   "outputs": [
    {
     "name": "stdout",
     "output_type": "stream",
     "text": [
      "Virat Kohli's Strike Rate :128.511867\n"
     ]
    }
   ],
   "source": [
    "total_runs=Kohli['batsman_runs'].sum()\n",
    "total_balls=Kohli.shape[0]\n",
    "strike_rate=(total_runs/total_balls) * 100\n",
    "print(f\"Virat Kohli's Strike Rate :{strike_rate:2f}\")"
   ]
  },
  {
   "cell_type": "code",
   "execution_count": 64,
   "id": "96c166df-4180-46b0-b056-515e0f40e038",
   "metadata": {},
   "outputs": [
    {
     "name": "stdout",
     "output_type": "stream",
     "text": [
      "ABD's Strike Rate :148.580442\n"
     ]
    }
   ],
   "source": [
    "ABD=deliveries[deliveries ['batter']=='AB de Villiers']\n",
    "total_runs=ABD['batsman_runs'].sum()\n",
    "total_balls=ABD.shape[0]\n",
    "strike_rate=(total_runs/total_balls) * 100\n",
    "print(f\"ABD's Strike Rate :{strike_rate:2f}\")"
   ]
  },
  {
   "cell_type": "code",
   "execution_count": 68,
   "id": "f797673e-44cc-48a2-b3ac-fea91739e011",
   "metadata": {},
   "outputs": [
    {
     "data": {
      "text/plain": [
       "bowler\n",
       "YS Chahal     205\n",
       "PP Chawla     192\n",
       "DJ Bravo      183\n",
       "B Kumar       181\n",
       "SP Narine     180\n",
       "R Ashwin      180\n",
       "A Mishra      174\n",
       "SL Malinga    170\n",
       "JJ Bumrah     168\n",
       "RA Jadeja     160\n",
       "Name: player_dismissed, dtype: int64"
      ]
     },
     "execution_count": 68,
     "metadata": {},
     "output_type": "execute_result"
    }
   ],
   "source": [
    "valid_dismissals = ['bowled', 'caught', 'lbw', 'stumped', 'caught and bowled', 'hit wicket']\n",
    "bowler_wickets = deliveries[deliveries['dismissal_kind'].isin(valid_dismissals)]\n",
    "bowler_wickets.groupby('bowler')['player_dismissed'].count().sort_values(ascending=False).head(10)\n"
   ]
  },
  {
   "cell_type": "code",
   "execution_count": 69,
   "id": "7c39c772-751f-44c2-aa65-62fc4af6b7b6",
   "metadata": {},
   "outputs": [
    {
     "data": {
      "text/html": [
       "<div>\n",
       "<style scoped>\n",
       "    .dataframe tbody tr th:only-of-type {\n",
       "        vertical-align: middle;\n",
       "    }\n",
       "\n",
       "    .dataframe tbody tr th {\n",
       "        vertical-align: top;\n",
       "    }\n",
       "\n",
       "    .dataframe thead th {\n",
       "        text-align: right;\n",
       "    }\n",
       "</style>\n",
       "<table border=\"1\" class=\"dataframe\">\n",
       "  <thead>\n",
       "    <tr style=\"text-align: right;\">\n",
       "      <th></th>\n",
       "      <th>balls_bowled</th>\n",
       "      <th>wickets</th>\n",
       "      <th>strike_rate</th>\n",
       "    </tr>\n",
       "    <tr>\n",
       "      <th>bowler</th>\n",
       "      <th></th>\n",
       "      <th></th>\n",
       "      <th></th>\n",
       "    </tr>\n",
       "  </thead>\n",
       "  <tbody>\n",
       "    <tr>\n",
       "      <th>Sohail Tanvir</th>\n",
       "      <td>265</td>\n",
       "      <td>22.0</td>\n",
       "      <td>12.045455</td>\n",
       "    </tr>\n",
       "    <tr>\n",
       "      <th>L Ngidi</th>\n",
       "      <td>342</td>\n",
       "      <td>25.0</td>\n",
       "      <td>13.680000</td>\n",
       "    </tr>\n",
       "    <tr>\n",
       "      <th>BJ Hodge</th>\n",
       "      <td>238</td>\n",
       "      <td>17.0</td>\n",
       "      <td>14.000000</td>\n",
       "    </tr>\n",
       "    <tr>\n",
       "      <th>CRD Fernando</th>\n",
       "      <td>249</td>\n",
       "      <td>17.0</td>\n",
       "      <td>14.647059</td>\n",
       "    </tr>\n",
       "    <tr>\n",
       "      <th>A Zampa</th>\n",
       "      <td>425</td>\n",
       "      <td>29.0</td>\n",
       "      <td>14.655172</td>\n",
       "    </tr>\n",
       "    <tr>\n",
       "      <th>Akash Madhwal</th>\n",
       "      <td>279</td>\n",
       "      <td>19.0</td>\n",
       "      <td>14.684211</td>\n",
       "    </tr>\n",
       "    <tr>\n",
       "      <th>M Pathirana</th>\n",
       "      <td>503</td>\n",
       "      <td>34.0</td>\n",
       "      <td>14.794118</td>\n",
       "    </tr>\n",
       "    <tr>\n",
       "      <th>YA Abdulla</th>\n",
       "      <td>222</td>\n",
       "      <td>15.0</td>\n",
       "      <td>14.800000</td>\n",
       "    </tr>\n",
       "    <tr>\n",
       "      <th>A Ashish Reddy</th>\n",
       "      <td>270</td>\n",
       "      <td>18.0</td>\n",
       "      <td>15.000000</td>\n",
       "    </tr>\n",
       "    <tr>\n",
       "      <th>AD Russell</th>\n",
       "      <td>1771</td>\n",
       "      <td>115.0</td>\n",
       "      <td>15.400000</td>\n",
       "    </tr>\n",
       "  </tbody>\n",
       "</table>\n",
       "</div>"
      ],
      "text/plain": [
       "                balls_bowled  wickets  strike_rate\n",
       "bowler                                            \n",
       "Sohail Tanvir            265     22.0    12.045455\n",
       "L Ngidi                  342     25.0    13.680000\n",
       "BJ Hodge                 238     17.0    14.000000\n",
       "CRD Fernando             249     17.0    14.647059\n",
       "A Zampa                  425     29.0    14.655172\n",
       "Akash Madhwal            279     19.0    14.684211\n",
       "M Pathirana              503     34.0    14.794118\n",
       "YA Abdulla               222     15.0    14.800000\n",
       "A Ashish Reddy           270     18.0    15.000000\n",
       "AD Russell              1771    115.0    15.400000"
      ]
     },
     "execution_count": 69,
     "metadata": {},
     "output_type": "execute_result"
    }
   ],
   "source": [
    "# Total balls bowled\n",
    "balls_bowled = deliveries.groupby('bowler').count()['ball']\n",
    "\n",
    "# Total wickets taken\n",
    "wickets_taken = bowler_wickets.groupby('bowler').count()['player_dismissed']\n",
    "\n",
    "# Combine into a DataFrame\n",
    "bowling_sr = pd.DataFrame({\n",
    "    'balls_bowled': balls_bowled,\n",
    "    'wickets': wickets_taken\n",
    "})\n",
    "\n",
    "# Drop bowlers with fewer than 200 balls\n",
    "bowling_sr = bowling_sr[bowling_sr['balls_bowled'] >= 200]\n",
    "\n",
    "# Calculate strike rate\n",
    "bowling_sr['strike_rate'] = bowling_sr['balls_bowled'] / bowling_sr['wickets']\n",
    "\n",
    "# Best strike rates (lowest first)\n",
    "bowling_sr.sort_values(by='strike_rate').head(10)\n"
   ]
  },
  {
   "cell_type": "code",
   "execution_count": 70,
   "id": "d28f503f-e818-4f57-9772-5f75c373c72d",
   "metadata": {},
   "outputs": [
    {
     "data": {
      "text/html": [
       "<div>\n",
       "<style scoped>\n",
       "    .dataframe tbody tr th:only-of-type {\n",
       "        vertical-align: middle;\n",
       "    }\n",
       "\n",
       "    .dataframe tbody tr th {\n",
       "        vertical-align: top;\n",
       "    }\n",
       "\n",
       "    .dataframe thead th {\n",
       "        text-align: right;\n",
       "    }\n",
       "</style>\n",
       "<table border=\"1\" class=\"dataframe\">\n",
       "  <thead>\n",
       "    <tr style=\"text-align: right;\">\n",
       "      <th></th>\n",
       "      <th>balls_bowled</th>\n",
       "      <th>wickets</th>\n",
       "      <th>strike_rate</th>\n",
       "      <th>runs_conceded</th>\n",
       "      <th>overs</th>\n",
       "      <th>economy</th>\n",
       "    </tr>\n",
       "    <tr>\n",
       "      <th>bowler</th>\n",
       "      <th></th>\n",
       "      <th></th>\n",
       "      <th></th>\n",
       "      <th></th>\n",
       "      <th></th>\n",
       "      <th></th>\n",
       "    </tr>\n",
       "  </thead>\n",
       "  <tbody>\n",
       "    <tr>\n",
       "      <th>Sohail Tanvir</th>\n",
       "      <td>265</td>\n",
       "      <td>22.0</td>\n",
       "      <td>12.045455</td>\n",
       "      <td>275</td>\n",
       "      <td>44.166667</td>\n",
       "      <td>6.226415</td>\n",
       "    </tr>\n",
       "    <tr>\n",
       "      <th>A Chandila</th>\n",
       "      <td>234</td>\n",
       "      <td>11.0</td>\n",
       "      <td>21.272727</td>\n",
       "      <td>245</td>\n",
       "      <td>39.000000</td>\n",
       "      <td>6.282051</td>\n",
       "    </tr>\n",
       "    <tr>\n",
       "      <th>SM Pollock</th>\n",
       "      <td>280</td>\n",
       "      <td>11.0</td>\n",
       "      <td>25.454545</td>\n",
       "      <td>307</td>\n",
       "      <td>46.666667</td>\n",
       "      <td>6.578571</td>\n",
       "    </tr>\n",
       "    <tr>\n",
       "      <th>A Kumble</th>\n",
       "      <td>983</td>\n",
       "      <td>45.0</td>\n",
       "      <td>21.844444</td>\n",
       "      <td>1089</td>\n",
       "      <td>163.833333</td>\n",
       "      <td>6.646999</td>\n",
       "    </tr>\n",
       "    <tr>\n",
       "      <th>GD McGrath</th>\n",
       "      <td>329</td>\n",
       "      <td>12.0</td>\n",
       "      <td>27.416667</td>\n",
       "      <td>366</td>\n",
       "      <td>54.833333</td>\n",
       "      <td>6.674772</td>\n",
       "    </tr>\n",
       "    <tr>\n",
       "      <th>M Muralitharan</th>\n",
       "      <td>1581</td>\n",
       "      <td>64.0</td>\n",
       "      <td>24.703125</td>\n",
       "      <td>1765</td>\n",
       "      <td>263.500000</td>\n",
       "      <td>6.698292</td>\n",
       "    </tr>\n",
       "    <tr>\n",
       "      <th>J Yadav</th>\n",
       "      <td>398</td>\n",
       "      <td>8.0</td>\n",
       "      <td>49.750000</td>\n",
       "      <td>447</td>\n",
       "      <td>66.333333</td>\n",
       "      <td>6.738693</td>\n",
       "    </tr>\n",
       "    <tr>\n",
       "      <th>SP Narine</th>\n",
       "      <td>4146</td>\n",
       "      <td>180.0</td>\n",
       "      <td>23.033333</td>\n",
       "      <td>4672</td>\n",
       "      <td>691.000000</td>\n",
       "      <td>6.761216</td>\n",
       "    </tr>\n",
       "    <tr>\n",
       "      <th>RE van der Merwe</th>\n",
       "      <td>455</td>\n",
       "      <td>21.0</td>\n",
       "      <td>21.666667</td>\n",
       "      <td>515</td>\n",
       "      <td>75.833333</td>\n",
       "      <td>6.791209</td>\n",
       "    </tr>\n",
       "    <tr>\n",
       "      <th>DW Steyn</th>\n",
       "      <td>2282</td>\n",
       "      <td>97.0</td>\n",
       "      <td>23.525773</td>\n",
       "      <td>2583</td>\n",
       "      <td>380.333333</td>\n",
       "      <td>6.791411</td>\n",
       "    </tr>\n",
       "  </tbody>\n",
       "</table>\n",
       "</div>"
      ],
      "text/plain": [
       "                  balls_bowled  wickets  strike_rate  runs_conceded  \\\n",
       "bowler                                                                \n",
       "Sohail Tanvir              265     22.0    12.045455            275   \n",
       "A Chandila                 234     11.0    21.272727            245   \n",
       "SM Pollock                 280     11.0    25.454545            307   \n",
       "A Kumble                   983     45.0    21.844444           1089   \n",
       "GD McGrath                 329     12.0    27.416667            366   \n",
       "M Muralitharan            1581     64.0    24.703125           1765   \n",
       "J Yadav                    398      8.0    49.750000            447   \n",
       "SP Narine                 4146    180.0    23.033333           4672   \n",
       "RE van der Merwe           455     21.0    21.666667            515   \n",
       "DW Steyn                  2282     97.0    23.525773           2583   \n",
       "\n",
       "                       overs   economy  \n",
       "bowler                                  \n",
       "Sohail Tanvir      44.166667  6.226415  \n",
       "A Chandila         39.000000  6.282051  \n",
       "SM Pollock         46.666667  6.578571  \n",
       "A Kumble          163.833333  6.646999  \n",
       "GD McGrath         54.833333  6.674772  \n",
       "M Muralitharan    263.500000  6.698292  \n",
       "J Yadav            66.333333  6.738693  \n",
       "SP Narine         691.000000  6.761216  \n",
       "RE van der Merwe   75.833333  6.791209  \n",
       "DW Steyn          380.333333  6.791411  "
      ]
     },
     "execution_count": 70,
     "metadata": {},
     "output_type": "execute_result"
    }
   ],
   "source": [
    "# Total runs conceded\n",
    "runs_conceded = deliveries.groupby('bowler')['total_runs'].sum()\n",
    "\n",
    "# Overs = balls_bowled / 6\n",
    "bowling_sr['runs_conceded'] = runs_conceded\n",
    "bowling_sr['overs'] = bowling_sr['balls_bowled'] / 6\n",
    "\n",
    "# Economy = runs / overs\n",
    "bowling_sr['economy'] = bowling_sr['runs_conceded'] / bowling_sr['overs']\n",
    "\n",
    "# Best economy (lowest first)\n",
    "bowling_sr.sort_values(by='economy').head(10)\n"
   ]
  },
  {
   "cell_type": "code",
   "execution_count": 71,
   "id": "fc9efdd7-e18f-43f4-bf49-63c3d4df036e",
   "metadata": {},
   "outputs": [
    {
     "data": {
      "text/html": [
       "<div>\n",
       "<style scoped>\n",
       "    .dataframe tbody tr th:only-of-type {\n",
       "        vertical-align: middle;\n",
       "    }\n",
       "\n",
       "    .dataframe tbody tr th {\n",
       "        vertical-align: top;\n",
       "    }\n",
       "\n",
       "    .dataframe thead th {\n",
       "        text-align: right;\n",
       "    }\n",
       "</style>\n",
       "<table border=\"1\" class=\"dataframe\">\n",
       "  <thead>\n",
       "    <tr style=\"text-align: right;\">\n",
       "      <th></th>\n",
       "      <th>wickets</th>\n",
       "      <th>strike_rate</th>\n",
       "      <th>economy</th>\n",
       "    </tr>\n",
       "    <tr>\n",
       "      <th>bowler</th>\n",
       "      <th></th>\n",
       "      <th></th>\n",
       "      <th></th>\n",
       "    </tr>\n",
       "  </thead>\n",
       "  <tbody>\n",
       "    <tr>\n",
       "      <th>YS Chahal</th>\n",
       "      <td>205.0</td>\n",
       "      <td>17.697561</td>\n",
       "      <td>7.741455</td>\n",
       "    </tr>\n",
       "    <tr>\n",
       "      <th>PP Chawla</th>\n",
       "      <td>192.0</td>\n",
       "      <td>20.286458</td>\n",
       "      <td>7.977920</td>\n",
       "    </tr>\n",
       "    <tr>\n",
       "      <th>DJ Bravo</th>\n",
       "      <td>183.0</td>\n",
       "      <td>18.010929</td>\n",
       "      <td>8.075243</td>\n",
       "    </tr>\n",
       "    <tr>\n",
       "      <th>B Kumar</th>\n",
       "      <td>181.0</td>\n",
       "      <td>22.430939</td>\n",
       "      <td>7.464532</td>\n",
       "    </tr>\n",
       "    <tr>\n",
       "      <th>R Ashwin</th>\n",
       "      <td>180.0</td>\n",
       "      <td>25.994444</td>\n",
       "      <td>6.969438</td>\n",
       "    </tr>\n",
       "    <tr>\n",
       "      <th>SP Narine</th>\n",
       "      <td>180.0</td>\n",
       "      <td>23.033333</td>\n",
       "      <td>6.761216</td>\n",
       "    </tr>\n",
       "    <tr>\n",
       "      <th>A Mishra</th>\n",
       "      <td>174.0</td>\n",
       "      <td>19.793103</td>\n",
       "      <td>7.304878</td>\n",
       "    </tr>\n",
       "    <tr>\n",
       "      <th>SL Malinga</th>\n",
       "      <td>170.0</td>\n",
       "      <td>17.494118</td>\n",
       "      <td>7.032952</td>\n",
       "    </tr>\n",
       "    <tr>\n",
       "      <th>JJ Bumrah</th>\n",
       "      <td>168.0</td>\n",
       "      <td>18.958333</td>\n",
       "      <td>7.233909</td>\n",
       "    </tr>\n",
       "    <tr>\n",
       "      <th>RA Jadeja</th>\n",
       "      <td>160.0</td>\n",
       "      <td>24.343750</td>\n",
       "      <td>7.574326</td>\n",
       "    </tr>\n",
       "  </tbody>\n",
       "</table>\n",
       "</div>"
      ],
      "text/plain": [
       "            wickets  strike_rate   economy\n",
       "bowler                                    \n",
       "YS Chahal     205.0    17.697561  7.741455\n",
       "PP Chawla     192.0    20.286458  7.977920\n",
       "DJ Bravo      183.0    18.010929  8.075243\n",
       "B Kumar       181.0    22.430939  7.464532\n",
       "R Ashwin      180.0    25.994444  6.969438\n",
       "SP Narine     180.0    23.033333  6.761216\n",
       "A Mishra      174.0    19.793103  7.304878\n",
       "SL Malinga    170.0    17.494118  7.032952\n",
       "JJ Bumrah     168.0    18.958333  7.233909\n",
       "RA Jadeja     160.0    24.343750  7.574326"
      ]
     },
     "execution_count": 71,
     "metadata": {},
     "output_type": "execute_result"
    }
   ],
   "source": [
    "bowling_sr[['wickets', 'strike_rate', 'economy']].sort_values(by='wickets', ascending=False).head(10)\n"
   ]
  },
  {
   "cell_type": "code",
   "execution_count": 72,
   "id": "52d94ef7-432b-4a83-bc6a-edc0e42cccf8",
   "metadata": {},
   "outputs": [],
   "source": [
    "import seaborn as sns"
   ]
  },
  {
   "cell_type": "code",
   "execution_count": 73,
   "id": "36ac5477-3473-4eee-a386-b3b35fc5c9e3",
   "metadata": {},
   "outputs": [],
   "source": [
    "import matplotlib.pyplot as plt"
   ]
  },
  {
   "cell_type": "code",
   "execution_count": 74,
   "id": "53e8c936-8259-4fd5-bd59-b0afc2cae4dc",
   "metadata": {},
   "outputs": [
    {
     "name": "stderr",
     "output_type": "stream",
     "text": [
      "/var/folders/dh/6lwkx0l90tz3dvbqfhcww_540000gq/T/ipykernel_5771/3219668413.py:3: FutureWarning: \n",
      "\n",
      "Passing `palette` without assigning `hue` is deprecated and will be removed in v0.14.0. Assign the `x` variable to `hue` and set `legend=False` for the same effect.\n",
      "\n",
      "  sns.barplot(x=top_teams.index, y=top_teams.values, palette='viridis')\n"
     ]
    },
    {
     "data": {
      "image/png": "[encoded data removed]",
      "text/plain": [
       "<Figure size 1000x500 with 1 Axes>"
      ]
     },
     "metadata": {},
     "output_type": "display_data"
    }
   ],
   "source": [
    "top_teams=matches['winner'].value_counts().head(10)\n",
    "plt.figure(figsize=(10, 5))\n",
    "sns.barplot(x=top_teams.index, y=top_teams.values, palette='viridis')\n",
    "plt.title(\"Top 10 Winning Teams in IPL\")\n",
    "plt.xlabel(\"Team\")\n",
    "plt.ylabel(\"Wins\")\n",
    "plt.xticks(rotation=45)\n",
    "plt.tight_layout()\n",
    "plt.show()"
   ]
  },
  {
   "cell_type": "code",
   "execution_count": 75,
   "id": "4ea62b9a-898f-4173-a42c-a4b6ec7c2f00",
   "metadata": {},
   "outputs": [
    {
     "name": "stderr",
     "output_type": "stream",
     "text": [
      "/var/folders/dh/6lwkx0l90tz3dvbqfhcww_540000gq/T/ipykernel_5771/1986055386.py:1: FutureWarning: \n",
      "\n",
      "Passing `palette` without assigning `hue` is deprecated and will be removed in v0.14.0. Assign the `x` variable to `hue` and set `legend=False` for the same effect.\n",
      "\n",
      "  sns.countplot(data=matches, x='toss_decision', palette='pastel')\n"
     ]
    },
    {
     "data": {
      "image/png": "[encoded data removed]",
      "text/plain": [
       "<Figure size 640x480 with 1 Axes>"
      ]
     },
     "metadata": {},
     "output_type": "display_data"
    }
   ],
   "source": [
    "sns.countplot(data=matches, x='toss_decision', palette='pastel')\n",
    "plt.title(\"Toss Decisions: Bat or Field?\")\n",
    "plt.xlabel(\"Toss Decision\")\n",
    "plt.ylabel(\"Match Count\")\n",
    "plt.show()\n"
   ]
  },
  {
   "cell_type": "code",
   "execution_count": 76,
   "id": "fcacb1b4-e7cb-4184-9526-b13549a5df1a",
   "metadata": {},
   "outputs": [
    {
     "name": "stderr",
     "output_type": "stream",
     "text": [
      "/var/folders/dh/6lwkx0l90tz3dvbqfhcww_540000gq/T/ipykernel_5771/3537321142.py:4: FutureWarning: \n",
      "\n",
      "Passing `palette` without assigning `hue` is deprecated and will be removed in v0.14.0. Assign the `x` variable to `hue` and set `legend=False` for the same effect.\n",
      "\n",
      "  sns.barplot(x=top_players.index, y=top_players.values, palette='Set2')\n"
     ]
    },
    {
     "data": {
      "image/png": "[encoded data removed]",
      "text/plain": [
       "<Figure size 1000x400 with 1 Axes>"
      ]
     },
     "metadata": {},
     "output_type": "display_data"
    }
   ],
   "source": [
    "top_players = matches['player_of_match'].value_counts().head(10)\n",
    "\n",
    "plt.figure(figsize=(10, 4))\n",
    "sns.barplot(x=top_players.index, y=top_players.values, palette='Set2')\n",
    "plt.title(\"Top 10 Players of the Match\")\n",
    "plt.xlabel(\"Player\")\n",
    "plt.ylabel(\"Awards\")\n",
    "plt.xticks(rotation=45)\n",
    "plt.tight_layout()\n",
    "plt.show()\n"
   ]
  },
  {
   "cell_type": "code",
   "execution_count": 79,
   "id": "d1bbedff-b4ce-4577-a1c3-210a61b293bd",
   "metadata": {},
   "outputs": [
    {
     "name": "stderr",
     "output_type": "stream",
     "text": [
      "/var/folders/dh/6lwkx0l90tz3dvbqfhcww_540000gq/T/ipykernel_5771/1638601458.py:4: FutureWarning: \n",
      "\n",
      "Passing `palette` without assigning `hue` is deprecated and will be removed in v0.14.0. Assign the `x` variable to `hue` and set `legend=False` for the same effect.\n",
      "\n",
      "  sns.barplot(x=bowling_sr_filtered.index, y=bowling_sr_filtered['economy'], palette='magma')\n"
     ]
    },
    {
     "data": {
      "image/png": "[encoded data removed]",
      "text/plain": [
       "<Figure size 1000x500 with 1 Axes>"
      ]
     },
     "metadata": {},
     "output_type": "display_data"
    }
   ],
   "source": [
    "bowling_sr_filtered = bowling_sr[bowling_sr['balls_bowled'] >= 300].sort_values('economy').head(10)\n",
    "\n",
    "plt.figure(figsize=(10, 5))\n",
    "sns.barplot(x=bowling_sr_filtered.index, y=bowling_sr_filtered['economy'], palette='magma')\n",
    "plt.title(\"Top 10 Bowlers with Best Economy Rate\")\n",
    "plt.xlabel(\"Bowler\")\n",
    "plt.ylabel(\"Economy\")\n",
    "plt.xticks(rotation=45)\n",
    "plt.tight_layout()\n",
    "plt.show()\n"
   ]
  },
  {
   "cell_type": "code",
   "execution_count": null,
   "id": "152d2ae9-9539-478d-90c0-3536b522e7fb",
   "metadata": {},
   "outputs": [],
   "source": []
  }
 ],
 "metadata": {
  "kernelspec": {
   "display_name": "Python 3 (ipykernel)",
   "language": "python",
   "name": "python3"
  },
  "language_info": {
   "codemirror_mode": {
    "name": "ipython",
    "version": 3
   },
   "file_extension": ".py",
   "mimetype": "text/x-python",
   "name": "python",
   "nbconvert_exporter": "python",
   "pygments_lexer": "ipython3",
   "version": "3.13.2"
  }
 },
 "nbformat": 4,
 "nbformat_minor": 5
}
